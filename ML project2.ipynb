{
 "cells": [
  {
   "cell_type": "code",
   "execution_count": null,
   "id": "e7d95682",
   "metadata": {},
   "outputs": [],
   "source": [
    "import numpy\n",
    "import sys\n",
    "import nltk\n",
    "nltk.download('stopwords')\n",
    "from nltk.tokenize import RegexpTokenizer\n",
    "from nltk.corpus import stopwords\n",
    "from keras.models import Sequential\n",
    "from keras.layers import Dense,Dropout,LSTM\n",
    "from keras.utils import np_utils\n",
    "from keras.callbacks import ModelCheckpoint"
   ]
  },
  {
   "cell_type": "code",
   "execution_count": null,
   "id": "07e29627",
   "metadata": {},
   "outputs": [],
   "source": [
    "#load data\n",
    "file=open(\"frankenstein-2.txt\").read()"
   ]
  },
  {
   "cell_type": "code",
   "execution_count": null,
   "id": "3c8d3569",
   "metadata": {},
   "outputs": [],
   "source": [
    "#tokenization\n",
    "#standardization\n",
    "def tokenize_words(input):\n",
    "    input=input.lower()\n",
    "    tokenizer=RegexpTokenizer(r'\\w')\n",
    "    tokens=tokenizer.tokenize(input)\n",
    "    filtered=filter(lambda token:token not in stopwords.words('english'),tokens)\n",
    "    return\"\".join(filtered)\n",
    "\n",
    "processed_inputs=tokenize_words(file)"
   ]
  },
  {
   "cell_type": "code",
   "execution_count": null,
   "id": "536727ba",
   "metadata": {},
   "outputs": [],
   "source": [
    "#chars to numbers\n",
    "chars = sorted(list(set(processed_inputs)))\n",
    "char_to_num=dict((c,i)for i,c in enumerate(chars))"
   ]
  },
  {
   "cell_type": "code",
   "execution_count": null,
   "id": "2a8995b9",
   "metadata": {},
   "outputs": [],
   "source": [
    "input_len=len(processed_inputs)\n",
    "vocab_len=len(chars)\n",
    "print(\"Total number of characters:\",input_len)\n",
    "print(\"Total vocab:\",vocab_len)"
   ]
  },
  {
   "cell_type": "code",
   "execution_count": null,
   "id": "b7eb0c76",
   "metadata": {},
   "outputs": [],
   "source": [
    "#seq length\n",
    "seq_length=100\n",
    "x_data=[]\n",
    "y_data=[]\n"
   ]
  },
  {
   "cell_type": "code",
   "execution_count": null,
   "id": "730e79c5",
   "metadata": {},
   "outputs": [],
   "source": [
    "#loop through the sequence\n",
    "for i in range(0,inpu_len-seq_length,1):\n",
    "    in_seq=processed_inputs[i:i+seq_length]\n",
    "    out_seq=processed_inputs[i+seq_length]\n",
    "    x_data.append([char_to_num[char]for char in in_seq])\n",
    "    y_data.append(char_to_num[out_seq])\n",
    "\n",
    "n_patters=len(x_data)\n",
    "print(\"Total Patterns:\",n_patterns)"
   ]
  },
  {
   "cell_type": "code",
   "execution_count": null,
   "id": "2f872a22",
   "metadata": {},
   "outputs": [],
   "source": [
    "#convert input sequence to np array and so on\n",
    "X=numpy.reshape(x_data,(n_patterns,seq_length,1))\n",
    "X=X/float(vocab_len)"
   ]
  },
  {
   "cell_type": "code",
   "execution_count": null,
   "id": "86d92556",
   "metadata": {},
   "outputs": [],
   "source": [
    "y=np_utils.to_categorical(y_data)"
   ]
  },
  {
   "cell_type": "markdown",
   "id": "87543015",
   "metadata": {},
   "source": []
  },
  {
   "cell_type": "code",
   "execution_count": null,
   "id": "8793ad09",
   "metadata": {},
   "outputs": [],
   "source": [
    "model=Sequential()\n",
    "model.add(LSTM(256,input_shape=(X.shape[1],X.shape[2]),return_sequences=True))\n",
    "model.add(Dropout(0.2))\n",
    "model.add(LSTM(256,return_sequences=True))\n",
    "model.add(Dropout(0.2))\n",
    "model.add(LSTM(128))\n",
    "model.add(Dropout(0.2))\n",
    "model.add(Dense(y.shape[1],activation=\"softmax\"))"
   ]
  },
  {
   "cell_type": "code",
   "execution_count": null,
   "id": "f492ce34",
   "metadata": {},
   "outputs": [],
   "source": [
    "#compile the model\n",
    "model.compile(loss='categorical_crossentropy',optimizer='adam')"
   ]
  },
  {
   "cell_type": "code",
   "execution_count": null,
   "id": "dca3b9f7",
   "metadata": {},
   "outputs": [],
   "source": [
    "#saving weight\n",
    "filepath=\"model_weight_saved.hdf5\"\n",
    "checkpoint=ModelCheckpoint(filepath,mointor=\"loss\",verbose=1,save_best_only=True,mode='sin')\n",
    "desired_callbacks=[checkpoint]"
   ]
  },
  {
   "cell_type": "markdown",
   "id": "7e3dfd75",
   "metadata": {},
   "source": []
  },
  {
   "cell_type": "code",
   "execution_count": null,
   "id": "f99266df",
   "metadata": {},
   "outputs": [],
   "source": [
    "model.fit(X,Yepochs=4,batch_size=256,callbacks=desired_callbacks)"
   ]
  },
  {
   "cell_type": "code",
   "execution_count": null,
   "id": "4f05e207",
   "metadata": {},
   "outputs": [],
   "source": [
    "filename=\"model_weights_saved.hdf5\"\n",
    "model.load_weights(filename)\n",
    "model.compile(loss=\"categorical_crossentropy\",optimizer='adam')"
   ]
  },
  {
   "cell_type": "code",
   "execution_count": null,
   "id": "50ec8f68",
   "metadata": {},
   "outputs": [],
   "source": [
    "#output of the model back into character\n",
    "num_to_char=dict((i,c)for i,c in enumerate())"
   ]
  },
  {
   "cell_type": "code",
   "execution_count": null,
   "id": "2c4c9017",
   "metadata": {},
   "outputs": [],
   "source": [
    "start=numpy.random.randint(0,len(x_data)-1)\n",
    "pattern=x_data[start]\n",
    "print(\"Random Seed: \")\n",
    "print(\"\\\".\"\".join([num_to_char[value]for value in pattern])),\"\\\"\")"
   ]
  },
  {
   "cell_type": "code",
   "execution_count": null,
   "id": "00a05d9f",
   "metadata": {},
   "outputs": [],
   "source": [
    "for i in range(1000):\n",
    "    x=numpy.reshape(pattern,(1,len(pattern),1))\n",
    "    x=x/float(vocab_len)\n",
    "    prediction=model.predict(x,verbose=0)\n",
    "    index=numpy.argmax(prediction)\n",
    "    result=num_to_char[index]\n",
    "    seq_in=[num_to_char[value]for value in pattern]\n",
    "    sys.stdout.write(result)\n",
    "    pattern.append(index)\n",
    "    pattern=pattern[1:len(pattern)]"
   ]
  }
 ],
 "metadata": {
  "kernelspec": {
   "display_name": "Python 3 (ipykernel)",
   "language": "python",
   "name": "python3"
  },
  "language_info": {
   "codemirror_mode": {
    "name": "ipython",
    "version": 3
   },
   "file_extension": ".py",
   "mimetype": "text/x-python",
   "name": "python",
   "nbconvert_exporter": "python",
   "pygments_lexer": "ipython3",
   "version": "3.11.5"
  }
 },
 "nbformat": 4,
 "nbformat_minor": 5
}
